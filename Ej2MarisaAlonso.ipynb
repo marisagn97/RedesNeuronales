{
 "cells": [
  {
   "cell_type": "code",
   "execution_count": 75,
   "metadata": {
    "id": "3gd8HrqMeyLl"
   },
   "outputs": [],
   "source": [
    "import matplotlib.pyplot as plt\n",
    "import numpy as np\n",
    "from tensorflow.keras.datasets import mnist\n",
    "from tensorflow.keras import layers, Input, regularizers\n",
    "from tensorflow.keras.models import Model\n",
    "from tensorflow.keras.preprocessing.image import ImageDataGenerator\n",
    "from tensorflow.keras import backend as K\n",
    "from tensorflow.keras.optimizers import SGD, Adam\n",
    "from tensorflow.keras.metrics import AUC\n",
    "from tensorflow.keras.losses import SparseCategoricalCrossentropy, MSE, MAE, BinaryCrossentropy\n",
    "\n",
    "from mpl_toolkits.mplot3d import Axes3D\n",
    "import tensorflow as tf\n",
    "import pandas as pd\n",
    "from aux_func import show_history, r2_keras\n",
    "from tensorflow.keras.layers import LSTM, Dense\n",
    "from tensorflow.python.keras.backend import sigmoid\n",
    "from tensorflow.data import Dataset"
   ]
  },
  {
   "cell_type": "markdown",
   "metadata": {
    "id": "vCNn-dKwe-So"
   },
   "source": [
    ""
   ]
  },
  {
   "cell_type": "code",
   "execution_count": 76,
   "metadata": {
    "id": "n6gE5obCjcP9"
   },
   "outputs": [],
   "source": [
    "def custom_loss(alpha):\n",
    "  def custom_loss_fun(y_true, y_pred):\n",
    "    bce=BinaryCrossentropy(from_logits=False)\n",
    "    return bce(y_true, y_pred[:,0])*alpha + MSE(y_true, y_pred[:,1])  \n",
    "  return custom_loss_fun"
   ]
  },
  {
   "cell_type": "code",
   "execution_count": 77,
   "metadata": {
    "id": "DUfL86T_4Kra"
   },
   "outputs": [],
   "source": [
    "# Esta función genera una serie temporal seudo aleatoria con cierta periodicidad\n",
    "def generate_time_series(batch_size, n_steps):\n",
    "    freq1, freq2, offsets1, offsets2 = np.random.rand(4, batch_size, 1)\n",
    "    time = np.linspace(0, 1, n_steps)\n",
    "    series = 0.5 * np.sin((time - offsets1) * (freq1 * 10 + 10))  #   wave 1\n",
    "    series += 0.2 * np.sin((time - offsets2) * (freq2 * 20 + 20)) # + wave 2\n",
    "    series += 0.1 * (np.random.rand(batch_size, n_steps) - 0.5)   # + noise\n",
    "    return series[..., np.newaxis].astype(np.float32)"
   ]
  },
  {
   "cell_type": "code",
   "execution_count": 78,
   "metadata": {
    "id": "RweTYgMBize8"
   },
   "outputs": [],
   "source": [
    "# Generamos train, validation y test\n",
    "n_steps = 50\n",
    "series = generate_time_series(10000, n_steps + 1)\n",
    "X_train_sequence, y_train_sequence = series[:7000, :n_steps], series[:7000, -1]\n",
    "X_valid_sequence, y_valid_sequence = series[7000:9000, :n_steps], series[7000:9000, -1]\n",
    "X_test_sequence, y_test_sequence = series[9000:, :n_steps], series[9000:, -1]\n",
    "ytrain2=np.where(y_train_sequence-X_train_sequence[:,-1]>=0,1,0)\n",
    "yvalid2=np.where(y_valid_sequence-X_valid_sequence[:,-1]>=0,1,0)\n",
    "ytest2=np.where(y_test_sequence-X_test_sequence[:,-1]>=0,1,0)\n",
    "y_train=np.concatenate((y_train_sequence,ytrain2), axis=-1)\n",
    "y_valid=np.concatenate((y_valid_sequence,yvalid2), axis=-1)\n",
    "y_test=np.concatenate((y_test_sequence,ytest2), axis=-1)"
   ]
  },
  {
   "cell_type": "code",
   "execution_count": 79,
   "metadata": {
    "colab": {
     "base_uri": "https://localhost:8080/"
    },
    "id": "XSVaVYgvh8Wq",
    "outputId": "4c71bacf-2820-48e7-b3be-6d0ebbb8cca4"
   },
   "outputs": [
    {
     "name": "stdout",
     "output_type": "stream",
     "text": [
      "Model: \"model_15\"\n",
      "__________________________________________________________________________________________________\n",
      " Layer (type)                   Output Shape         Param #     Connected to                     \n",
      "==================================================================================================\n",
      " input_16 (InputLayer)          [(None, 50)]         0           []                               \n",
      "                                                                                                  \n",
      " tf.expand_dims_15 (TFOpLambda)  (None, 50, 1)       0           ['input_16[0][0]']               \n",
      "                                                                                                  \n",
      " lstm_90 (LSTM)                 (None, 50, 100)      40800       ['tf.expand_dims_15[0][0]']      \n",
      "                                                                                                  \n",
      " lstm_91 (LSTM)                 (None, 50, 100)      80400       ['lstm_90[0][0]']                \n",
      "                                                                                                  \n",
      " lstm_92 (LSTM)                 (None, 50, 100)      80400       ['lstm_91[0][0]']                \n",
      "                                                                                                  \n",
      " lstm_93 (LSTM)                 (None, 50, 100)      80400       ['lstm_92[0][0]']                \n",
      "                                                                                                  \n",
      " lstm_94 (LSTM)                 (None, 50, 100)      80400       ['lstm_93[0][0]']                \n",
      "                                                                                                  \n",
      " lstm_95 (LSTM)                 (None, 200)          240800      ['lstm_94[0][0]']                \n",
      "                                                                                                  \n",
      " flatten_15 (Flatten)           (None, 200)          0           ['lstm_95[0][0]']                \n",
      "                                                                                                  \n",
      " dense_60 (Dense)               (None, 256)          51456       ['flatten_15[0][0]']             \n",
      "                                                                                                  \n",
      " dense_61 (Dense)               (None, 100)          25700       ['dense_60[0][0]']               \n",
      "                                                                                                  \n",
      " dense_62 (Dense)               (None, 1)            101         ['dense_61[0][0]']               \n",
      "                                                                                                  \n",
      " dense_63 (Dense)               (None, 1)            101         ['dense_61[0][0]']               \n",
      "                                                                                                  \n",
      " tf.concat_15 (TFOpLambda)      (None, 2)            0           ['dense_62[0][0]',               \n",
      "                                                                  'dense_63[0][0]']               \n",
      "                                                                                                  \n",
      "==================================================================================================\n",
      "Total params: 680,558\n",
      "Trainable params: 680,558\n",
      "Non-trainable params: 0\n",
      "__________________________________________________________________________________________________\n",
      "None\n"
     ]
    }
   ],
   "source": [
    "input_tensor = Input(shape=(n_steps), dtype='float32')\n",
    "x_0 = input_tensor\n",
    "x = tf.expand_dims(x_0, axis=-1)\n",
    "# Dependiendo de cual sea el output deberemos cambiar el valor 'return_sequences'\n",
    "for _ in range(5):\n",
    "    x = LSTM(100, activation='tanh', recurrent_activation='sigmoid', return_sequences=True)(x)\n",
    "x = LSTM(200, activation='tanh', recurrent_activation='sigmoid', return_sequences=False)(x)\n",
    "\n",
    "x = layers.Flatten()(x)\n",
    "x = layers.Dense(256, activation=tf.nn.leaky_relu)(x)\n",
    "x = layers.Dense(100, activation=tf.nn.leaky_relu)(x)\n",
    "out_reg = layers.Dense(1, activation=None)(x)\n",
    "out_class= layers.Dense(1, activation='softmax')(x)\n",
    "output = tf.concat([out_reg,out_class], axis=-1)\n",
    "model = Model(input_tensor, output)\n",
    "print(model.summary())\n",
    "\n",
    "model.compile(optimizer=tf.keras.optimizers.Adam(0.001), loss=custom_loss(1000),metrics=['mse', 'mean_absolute_error',r2_keras])"
   ]
  },
  {
   "cell_type": "code",
   "execution_count": 85,
   "metadata": {
    "colab": {
     "base_uri": "https://localhost:8080/"
    },
    "id": "LmVaRfsxw53-",
    "outputId": "c73c44f2-920a-45ed-8701-788581601ab1"
   },
   "outputs": [
    {
     "name": "stdout",
     "output_type": "stream",
     "text": [
      "Model: \"model_17\"\n",
      "__________________________________________________________________________________________________\n",
      " Layer (type)                   Output Shape         Param #     Connected to                     \n",
      "==================================================================================================\n",
      " input_18 (InputLayer)          [(None, 50)]         0           []                               \n",
      "                                                                                                  \n",
      " tf.expand_dims_17 (TFOpLambda)  (None, 50, 1)       0           ['input_18[0][0]']               \n",
      "                                                                                                  \n",
      " lstm_102 (LSTM)                (None, 50, 100)      40800       ['tf.expand_dims_17[0][0]']      \n",
      "                                                                                                  \n",
      " lstm_103 (LSTM)                (None, 50, 100)      80400       ['lstm_102[0][0]']               \n",
      "                                                                                                  \n",
      " lstm_104 (LSTM)                (None, 50, 100)      80400       ['lstm_103[0][0]']               \n",
      "                                                                                                  \n",
      " lstm_105 (LSTM)                (None, 50, 100)      80400       ['lstm_104[0][0]']               \n",
      "                                                                                                  \n",
      " lstm_106 (LSTM)                (None, 50, 100)      80400       ['lstm_105[0][0]']               \n",
      "                                                                                                  \n",
      " lstm_107 (LSTM)                (None, 200)          240800      ['lstm_106[0][0]']               \n",
      "                                                                                                  \n",
      " flatten_17 (Flatten)           (None, 200)          0           ['lstm_107[0][0]']               \n",
      "                                                                                                  \n",
      " dense_68 (Dense)               (None, 256)          51456       ['flatten_17[0][0]']             \n",
      "                                                                                                  \n",
      " dense_69 (Dense)               (None, 100)          25700       ['dense_68[0][0]']               \n",
      "                                                                                                  \n",
      " dense_71 (Dense)               (None, 1)            101         ['dense_69[0][0]']               \n",
      "                                                                                                  \n",
      " dense_70 (Dense)               (None, 1)            101         ['dense_69[0][0]']               \n",
      "                                                                                                  \n",
      "==================================================================================================\n",
      "Total params: 680,558\n",
      "Trainable params: 680,558\n",
      "Non-trainable params: 0\n",
      "__________________________________________________________________________________________________\n",
      "None\n"
     ]
    }
   ],
   "source": [
    "input_tensor = Input(shape=(n_steps), dtype='float32')\n",
    "x_0 = input_tensor\n",
    "x = tf.expand_dims(x_0, axis=-1)\n",
    "# Dependiendo de cual sea el output deberemos cambiar el valor 'return_sequences'\n",
    "for _ in range(5):\n",
    "    x = LSTM(100, activation='tanh', recurrent_activation='sigmoid', return_sequences=True)(x)\n",
    "x = LSTM(200, activation='tanh', recurrent_activation='sigmoid', return_sequences=False)(x)\n",
    "\n",
    "x = layers.Flatten()(x)\n",
    "x = layers.Dense(256, activation=tf.nn.leaky_relu)(x)\n",
    "x = layers.Dense(100, activation=tf.nn.leaky_relu)(x)\n",
    "out_reg = layers.Dense(1, activation=None)(x)\n",
    "out_class= layers.Dense(1, activation='softmax')(x)\n",
    "model = Model(input_tensor, outputs=[out_class,out_reg])\n",
    "print(model.summary())\n",
    "\n",
    "model.compile(optimizer=tf.keras.optimizers.Adam(0.001), loss=['mse','binary_crossentropy'],metrics=['mse', 'mean_absolute_error',r2_keras])"
   ]
  },
  {
   "cell_type": "code",
   "execution_count": null,
   "metadata": {
    "colab": {
     "base_uri": "https://localhost:8080/"
    },
    "id": "3dLEshDGxSzb",
    "outputId": "e0112b3f-08eb-4fd8-cf0f-1e6b13a289aa"
   },
   "outputs": [
    {
     "name": "stdout",
     "output_type": "stream",
     "text": [
      "Epoch 1/20\n",
      "200/200 [==============================] - 88s 440ms/step - loss: 8.6767 - dense_71_loss: 1.0699 - dense_70_loss: 7.6068 - dense_71_mse: 1.0699 - dense_71_mean_absolute_error: 0.9615 - dense_71_r2_keras: -6.8561 - dense_70_mse: 58.9048 - dense_70_mean_absolute_error: 7.6587 - dense_70_r2_keras: -243.6167 - val_loss: 11.8987 - val_dense_71_loss: 0.7909 - val_dense_70_loss: 11.1078 - val_dense_71_mse: 0.7909 - val_dense_71_mean_absolute_error: 0.7284 - val_dense_71_r2_keras: -2.0636 - val_dense_70_mse: 62.4704 - val_dense_70_mean_absolute_error: 7.8873 - val_dense_70_r2_keras: -242.0068\n",
      "Epoch 2/20\n",
      "200/200 [==============================] - 76s 382ms/step - loss: 8.6720 - dense_71_loss: 1.0703 - dense_70_loss: 7.6017 - dense_71_mse: 1.0703 - dense_71_mean_absolute_error: 0.9617 - dense_71_r2_keras: -6.8071 - dense_70_mse: 58.8993 - dense_70_mean_absolute_error: 7.6584 - dense_70_r2_keras: -244.2560 - val_loss: 11.8987 - val_dense_71_loss: 0.7909 - val_dense_70_loss: 11.1078 - val_dense_71_mse: 0.7909 - val_dense_71_mean_absolute_error: 0.7284 - val_dense_71_r2_keras: -2.0636 - val_dense_70_mse: 62.4704 - val_dense_70_mean_absolute_error: 7.8873 - val_dense_70_r2_keras: -242.0068\n",
      "Epoch 3/20\n",
      " 81/200 [===========>..................] - ETA: 45s - loss: 8.5542 - dense_71_loss: 1.0941 - dense_70_loss: 7.4601 - dense_71_mse: 1.0941 - dense_71_mean_absolute_error: 0.9752 - dense_71_r2_keras: -7.0985 - dense_70_mse: 58.7581 - dense_70_mean_absolute_error: 7.6491 - dense_70_r2_keras: -243.7541"
     ]
    }
   ],
   "source": [
    "history=model.fit(X_train_sequence, [y_train_sequence,ytrain2], epochs=20, batch_size=30,steps_per_epoch=200, shuffle=False, verbose=1, validation_data=(X_valid_sequence,y_valid),validation_steps=10)"
   ]
  },
  {
   "cell_type": "code",
   "execution_count": 81,
   "metadata": {
    "colab": {
     "base_uri": "https://localhost:8080/",
     "height": 338
    },
    "id": "_ZZdgJ4cncCj",
    "outputId": "b69a90c9-9ca6-4c0a-c06f-7b3543a76201"
   },
   "outputs": [
    {
     "name": "stdout",
     "output_type": "stream",
     "text": [
      "Epoch 1/20\n"
     ]
    },
    {
     "ename": "KeyboardInterrupt",
     "evalue": "ignored",
     "output_type": "error",
     "traceback": [
      "\u001b[0;31m---------------------------------------------------------------------------\u001b[0m",
      "\u001b[0;31mKeyboardInterrupt\u001b[0m                         Traceback (most recent call last)",
      "\u001b[0;32m<ipython-input-81-651601b660d1>\u001b[0m in \u001b[0;36m<module>\u001b[0;34m()\u001b[0m\n\u001b[0;32m----> 1\u001b[0;31m \u001b[0mhistory\u001b[0m \u001b[0;34m=\u001b[0m \u001b[0mmodel\u001b[0m\u001b[0;34m.\u001b[0m\u001b[0mfit\u001b[0m\u001b[0;34m(\u001b[0m\u001b[0mX_train_sequence\u001b[0m\u001b[0;34m,\u001b[0m \u001b[0my_train\u001b[0m\u001b[0;34m,\u001b[0m \u001b[0mepochs\u001b[0m\u001b[0;34m=\u001b[0m\u001b[0;36m20\u001b[0m\u001b[0;34m,\u001b[0m \u001b[0mbatch_size\u001b[0m\u001b[0;34m=\u001b[0m\u001b[0;36m30\u001b[0m\u001b[0;34m,\u001b[0m \u001b[0msteps_per_epoch\u001b[0m\u001b[0;34m=\u001b[0m\u001b[0;36m200\u001b[0m\u001b[0;34m,\u001b[0m \u001b[0mshuffle\u001b[0m\u001b[0;34m=\u001b[0m\u001b[0;32mFalse\u001b[0m\u001b[0;34m,\u001b[0m \u001b[0mverbose\u001b[0m\u001b[0;34m=\u001b[0m\u001b[0;36m1\u001b[0m\u001b[0;34m,\u001b[0m \u001b[0mvalidation_data\u001b[0m\u001b[0;34m=\u001b[0m\u001b[0;34m(\u001b[0m\u001b[0mX_valid_sequence\u001b[0m\u001b[0;34m,\u001b[0m\u001b[0my_valid\u001b[0m\u001b[0;34m)\u001b[0m\u001b[0;34m,\u001b[0m\u001b[0mvalidation_steps\u001b[0m\u001b[0;34m=\u001b[0m\u001b[0;36m10\u001b[0m\u001b[0;34m)\u001b[0m\u001b[0;34m\u001b[0m\u001b[0;34m\u001b[0m\u001b[0m\n\u001b[0m",
      "\u001b[0;32m/usr/local/lib/python3.7/dist-packages/keras/utils/traceback_utils.py\u001b[0m in \u001b[0;36merror_handler\u001b[0;34m(*args, **kwargs)\u001b[0m\n\u001b[1;32m     62\u001b[0m     \u001b[0mfiltered_tb\u001b[0m \u001b[0;34m=\u001b[0m \u001b[0;32mNone\u001b[0m\u001b[0;34m\u001b[0m\u001b[0;34m\u001b[0m\u001b[0m\n\u001b[1;32m     63\u001b[0m     \u001b[0;32mtry\u001b[0m\u001b[0;34m:\u001b[0m\u001b[0;34m\u001b[0m\u001b[0;34m\u001b[0m\u001b[0m\n\u001b[0;32m---> 64\u001b[0;31m       \u001b[0;32mreturn\u001b[0m \u001b[0mfn\u001b[0m\u001b[0;34m(\u001b[0m\u001b[0;34m*\u001b[0m\u001b[0margs\u001b[0m\u001b[0;34m,\u001b[0m \u001b[0;34m**\u001b[0m\u001b[0mkwargs\u001b[0m\u001b[0;34m)\u001b[0m\u001b[0;34m\u001b[0m\u001b[0;34m\u001b[0m\u001b[0m\n\u001b[0m\u001b[1;32m     65\u001b[0m     \u001b[0;32mexcept\u001b[0m \u001b[0mException\u001b[0m \u001b[0;32mas\u001b[0m \u001b[0me\u001b[0m\u001b[0;34m:\u001b[0m  \u001b[0;31m# pylint: disable=broad-except\u001b[0m\u001b[0;34m\u001b[0m\u001b[0;34m\u001b[0m\u001b[0m\n\u001b[1;32m     66\u001b[0m       \u001b[0mfiltered_tb\u001b[0m \u001b[0;34m=\u001b[0m \u001b[0m_process_traceback_frames\u001b[0m\u001b[0;34m(\u001b[0m\u001b[0me\u001b[0m\u001b[0;34m.\u001b[0m\u001b[0m__traceback__\u001b[0m\u001b[0;34m)\u001b[0m\u001b[0;34m\u001b[0m\u001b[0;34m\u001b[0m\u001b[0m\n",
      "\u001b[0;32m/usr/local/lib/python3.7/dist-packages/keras/engine/training.py\u001b[0m in \u001b[0;36mfit\u001b[0;34m(self, x, y, batch_size, epochs, verbose, callbacks, validation_split, validation_data, shuffle, class_weight, sample_weight, initial_epoch, steps_per_epoch, validation_steps, validation_batch_size, validation_freq, max_queue_size, workers, use_multiprocessing)\u001b[0m\n\u001b[1;32m   1214\u001b[0m                 _r=1):\n\u001b[1;32m   1215\u001b[0m               \u001b[0mcallbacks\u001b[0m\u001b[0;34m.\u001b[0m\u001b[0mon_train_batch_begin\u001b[0m\u001b[0;34m(\u001b[0m\u001b[0mstep\u001b[0m\u001b[0;34m)\u001b[0m\u001b[0;34m\u001b[0m\u001b[0;34m\u001b[0m\u001b[0m\n\u001b[0;32m-> 1216\u001b[0;31m               \u001b[0mtmp_logs\u001b[0m \u001b[0;34m=\u001b[0m \u001b[0mself\u001b[0m\u001b[0;34m.\u001b[0m\u001b[0mtrain_function\u001b[0m\u001b[0;34m(\u001b[0m\u001b[0miterator\u001b[0m\u001b[0;34m)\u001b[0m\u001b[0;34m\u001b[0m\u001b[0;34m\u001b[0m\u001b[0m\n\u001b[0m\u001b[1;32m   1217\u001b[0m               \u001b[0;32mif\u001b[0m \u001b[0mdata_handler\u001b[0m\u001b[0;34m.\u001b[0m\u001b[0mshould_sync\u001b[0m\u001b[0;34m:\u001b[0m\u001b[0;34m\u001b[0m\u001b[0;34m\u001b[0m\u001b[0m\n\u001b[1;32m   1218\u001b[0m                 \u001b[0mcontext\u001b[0m\u001b[0;34m.\u001b[0m\u001b[0masync_wait\u001b[0m\u001b[0;34m(\u001b[0m\u001b[0;34m)\u001b[0m\u001b[0;34m\u001b[0m\u001b[0;34m\u001b[0m\u001b[0m\n",
      "\u001b[0;32m/usr/local/lib/python3.7/dist-packages/tensorflow/python/util/traceback_utils.py\u001b[0m in \u001b[0;36merror_handler\u001b[0;34m(*args, **kwargs)\u001b[0m\n\u001b[1;32m    148\u001b[0m     \u001b[0mfiltered_tb\u001b[0m \u001b[0;34m=\u001b[0m \u001b[0;32mNone\u001b[0m\u001b[0;34m\u001b[0m\u001b[0;34m\u001b[0m\u001b[0m\n\u001b[1;32m    149\u001b[0m     \u001b[0;32mtry\u001b[0m\u001b[0;34m:\u001b[0m\u001b[0;34m\u001b[0m\u001b[0;34m\u001b[0m\u001b[0m\n\u001b[0;32m--> 150\u001b[0;31m       \u001b[0;32mreturn\u001b[0m \u001b[0mfn\u001b[0m\u001b[0;34m(\u001b[0m\u001b[0;34m*\u001b[0m\u001b[0margs\u001b[0m\u001b[0;34m,\u001b[0m \u001b[0;34m**\u001b[0m\u001b[0mkwargs\u001b[0m\u001b[0;34m)\u001b[0m\u001b[0;34m\u001b[0m\u001b[0;34m\u001b[0m\u001b[0m\n\u001b[0m\u001b[1;32m    151\u001b[0m     \u001b[0;32mexcept\u001b[0m \u001b[0mException\u001b[0m \u001b[0;32mas\u001b[0m \u001b[0me\u001b[0m\u001b[0;34m:\u001b[0m\u001b[0;34m\u001b[0m\u001b[0;34m\u001b[0m\u001b[0m\n\u001b[1;32m    152\u001b[0m       \u001b[0mfiltered_tb\u001b[0m \u001b[0;34m=\u001b[0m \u001b[0m_process_traceback_frames\u001b[0m\u001b[0;34m(\u001b[0m\u001b[0me\u001b[0m\u001b[0;34m.\u001b[0m\u001b[0m__traceback__\u001b[0m\u001b[0;34m)\u001b[0m\u001b[0;34m\u001b[0m\u001b[0;34m\u001b[0m\u001b[0m\n",
      "\u001b[0;32m/usr/local/lib/python3.7/dist-packages/tensorflow/python/eager/def_function.py\u001b[0m in \u001b[0;36m__call__\u001b[0;34m(self, *args, **kwds)\u001b[0m\n\u001b[1;32m    908\u001b[0m \u001b[0;34m\u001b[0m\u001b[0m\n\u001b[1;32m    909\u001b[0m       \u001b[0;32mwith\u001b[0m \u001b[0mOptionalXlaContext\u001b[0m\u001b[0;34m(\u001b[0m\u001b[0mself\u001b[0m\u001b[0;34m.\u001b[0m\u001b[0m_jit_compile\u001b[0m\u001b[0;34m)\u001b[0m\u001b[0;34m:\u001b[0m\u001b[0;34m\u001b[0m\u001b[0;34m\u001b[0m\u001b[0m\n\u001b[0;32m--> 910\u001b[0;31m         \u001b[0mresult\u001b[0m \u001b[0;34m=\u001b[0m \u001b[0mself\u001b[0m\u001b[0;34m.\u001b[0m\u001b[0m_call\u001b[0m\u001b[0;34m(\u001b[0m\u001b[0;34m*\u001b[0m\u001b[0margs\u001b[0m\u001b[0;34m,\u001b[0m \u001b[0;34m**\u001b[0m\u001b[0mkwds\u001b[0m\u001b[0;34m)\u001b[0m\u001b[0;34m\u001b[0m\u001b[0;34m\u001b[0m\u001b[0m\n\u001b[0m\u001b[1;32m    911\u001b[0m \u001b[0;34m\u001b[0m\u001b[0m\n\u001b[1;32m    912\u001b[0m       \u001b[0mnew_tracing_count\u001b[0m \u001b[0;34m=\u001b[0m \u001b[0mself\u001b[0m\u001b[0;34m.\u001b[0m\u001b[0mexperimental_get_tracing_count\u001b[0m\u001b[0;34m(\u001b[0m\u001b[0;34m)\u001b[0m\u001b[0;34m\u001b[0m\u001b[0;34m\u001b[0m\u001b[0m\n",
      "\u001b[0;32m/usr/local/lib/python3.7/dist-packages/tensorflow/python/eager/def_function.py\u001b[0m in \u001b[0;36m_call\u001b[0;34m(self, *args, **kwds)\u001b[0m\n\u001b[1;32m    973\u001b[0m         \u001b[0;31m# Lifting succeeded, so variables are initialized and we can run the\u001b[0m\u001b[0;34m\u001b[0m\u001b[0;34m\u001b[0m\u001b[0;34m\u001b[0m\u001b[0m\n\u001b[1;32m    974\u001b[0m         \u001b[0;31m# stateless function.\u001b[0m\u001b[0;34m\u001b[0m\u001b[0;34m\u001b[0m\u001b[0;34m\u001b[0m\u001b[0m\n\u001b[0;32m--> 975\u001b[0;31m         \u001b[0;32mreturn\u001b[0m \u001b[0mself\u001b[0m\u001b[0;34m.\u001b[0m\u001b[0m_stateless_fn\u001b[0m\u001b[0;34m(\u001b[0m\u001b[0;34m*\u001b[0m\u001b[0margs\u001b[0m\u001b[0;34m,\u001b[0m \u001b[0;34m**\u001b[0m\u001b[0mkwds\u001b[0m\u001b[0;34m)\u001b[0m\u001b[0;34m\u001b[0m\u001b[0;34m\u001b[0m\u001b[0m\n\u001b[0m\u001b[1;32m    976\u001b[0m     \u001b[0;32melse\u001b[0m\u001b[0;34m:\u001b[0m\u001b[0;34m\u001b[0m\u001b[0;34m\u001b[0m\u001b[0m\n\u001b[1;32m    977\u001b[0m       \u001b[0m_\u001b[0m\u001b[0;34m,\u001b[0m \u001b[0m_\u001b[0m\u001b[0;34m,\u001b[0m \u001b[0m_\u001b[0m\u001b[0;34m,\u001b[0m \u001b[0mfiltered_flat_args\u001b[0m \u001b[0;34m=\u001b[0m\u001b[0;31m \u001b[0m\u001b[0;31m\\\u001b[0m\u001b[0;34m\u001b[0m\u001b[0;34m\u001b[0m\u001b[0m\n",
      "\u001b[0;32m/usr/local/lib/python3.7/dist-packages/tensorflow/python/eager/function.py\u001b[0m in \u001b[0;36m__call__\u001b[0;34m(self, *args, **kwargs)\u001b[0m\n\u001b[1;32m   3129\u001b[0m        filtered_flat_args) = self._maybe_define_function(args, kwargs)\n\u001b[1;32m   3130\u001b[0m     return graph_function._call_flat(\n\u001b[0;32m-> 3131\u001b[0;31m         filtered_flat_args, captured_inputs=graph_function.captured_inputs)  # pylint: disable=protected-access\n\u001b[0m\u001b[1;32m   3132\u001b[0m \u001b[0;34m\u001b[0m\u001b[0m\n\u001b[1;32m   3133\u001b[0m   \u001b[0;34m@\u001b[0m\u001b[0mproperty\u001b[0m\u001b[0;34m\u001b[0m\u001b[0;34m\u001b[0m\u001b[0m\n",
      "\u001b[0;32m/usr/local/lib/python3.7/dist-packages/tensorflow/python/eager/function.py\u001b[0m in \u001b[0;36m_call_flat\u001b[0;34m(self, args, captured_inputs, cancellation_manager)\u001b[0m\n\u001b[1;32m   1958\u001b[0m       \u001b[0;31m# No tape is watching; skip to running the function.\u001b[0m\u001b[0;34m\u001b[0m\u001b[0;34m\u001b[0m\u001b[0;34m\u001b[0m\u001b[0m\n\u001b[1;32m   1959\u001b[0m       return self._build_call_outputs(self._inference_function.call(\n\u001b[0;32m-> 1960\u001b[0;31m           ctx, args, cancellation_manager=cancellation_manager))\n\u001b[0m\u001b[1;32m   1961\u001b[0m     forward_backward = self._select_forward_and_backward_functions(\n\u001b[1;32m   1962\u001b[0m         \u001b[0margs\u001b[0m\u001b[0;34m,\u001b[0m\u001b[0;34m\u001b[0m\u001b[0;34m\u001b[0m\u001b[0m\n",
      "\u001b[0;32m/usr/local/lib/python3.7/dist-packages/tensorflow/python/eager/function.py\u001b[0m in \u001b[0;36mcall\u001b[0;34m(self, ctx, args, cancellation_manager)\u001b[0m\n\u001b[1;32m    601\u001b[0m               \u001b[0minputs\u001b[0m\u001b[0;34m=\u001b[0m\u001b[0margs\u001b[0m\u001b[0;34m,\u001b[0m\u001b[0;34m\u001b[0m\u001b[0;34m\u001b[0m\u001b[0m\n\u001b[1;32m    602\u001b[0m               \u001b[0mattrs\u001b[0m\u001b[0;34m=\u001b[0m\u001b[0mattrs\u001b[0m\u001b[0;34m,\u001b[0m\u001b[0;34m\u001b[0m\u001b[0;34m\u001b[0m\u001b[0m\n\u001b[0;32m--> 603\u001b[0;31m               ctx=ctx)\n\u001b[0m\u001b[1;32m    604\u001b[0m         \u001b[0;32melse\u001b[0m\u001b[0;34m:\u001b[0m\u001b[0;34m\u001b[0m\u001b[0;34m\u001b[0m\u001b[0m\n\u001b[1;32m    605\u001b[0m           outputs = execute.execute_with_cancellation(\n",
      "\u001b[0;32m/usr/local/lib/python3.7/dist-packages/tensorflow/python/eager/execute.py\u001b[0m in \u001b[0;36mquick_execute\u001b[0;34m(op_name, num_outputs, inputs, attrs, ctx, name)\u001b[0m\n\u001b[1;32m     57\u001b[0m     \u001b[0mctx\u001b[0m\u001b[0;34m.\u001b[0m\u001b[0mensure_initialized\u001b[0m\u001b[0;34m(\u001b[0m\u001b[0;34m)\u001b[0m\u001b[0;34m\u001b[0m\u001b[0;34m\u001b[0m\u001b[0m\n\u001b[1;32m     58\u001b[0m     tensors = pywrap_tfe.TFE_Py_Execute(ctx._handle, device_name, op_name,\n\u001b[0;32m---> 59\u001b[0;31m                                         inputs, attrs, num_outputs)\n\u001b[0m\u001b[1;32m     60\u001b[0m   \u001b[0;32mexcept\u001b[0m \u001b[0mcore\u001b[0m\u001b[0;34m.\u001b[0m\u001b[0m_NotOkStatusException\u001b[0m \u001b[0;32mas\u001b[0m \u001b[0me\u001b[0m\u001b[0;34m:\u001b[0m\u001b[0;34m\u001b[0m\u001b[0;34m\u001b[0m\u001b[0m\n\u001b[1;32m     61\u001b[0m     \u001b[0;32mif\u001b[0m \u001b[0mname\u001b[0m \u001b[0;32mis\u001b[0m \u001b[0;32mnot\u001b[0m \u001b[0;32mNone\u001b[0m\u001b[0;34m:\u001b[0m\u001b[0;34m\u001b[0m\u001b[0;34m\u001b[0m\u001b[0m\n",
      "\u001b[0;31mKeyboardInterrupt\u001b[0m: "
     ]
    }
   ],
   "source": [
    "history = model.fit(X_train_sequence, y_train, epochs=20, batch_size=30, steps_per_epoch=200, shuffle=False, verbose=1, validation_data=(X_valid_sequence,y_valid),validation_steps=10)"
   ]
  },
  {
   "cell_type": "code",
   "execution_count": null,
   "metadata": {
    "id": "kNgeR9Zyks1l"
   },
   "outputs": [],
   "source": [
    "show_history(history, metrics=['mse', 'mean_absolute_error','r2_keras'])"
   ]
  }
 ],
 "metadata": {
  "accelerator": "GPU",
  "colab": {
   "collapsed_sections": [],
   "name": "Ejercicio2MarisaAlonso.ipynb",
   "provenance": []
  },
  "kernelspec": {
   "display_name": "Python 3",
   "name": "python3"
  },
  "language_info": {
   "name": "python"
  }
 },
 "nbformat": 4,
 "nbformat_minor": 0
}
